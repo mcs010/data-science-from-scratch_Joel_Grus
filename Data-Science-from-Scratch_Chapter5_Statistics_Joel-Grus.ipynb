{
 "cells": [
  {
   "cell_type": "markdown",
   "id": "8fe10b4e",
   "metadata": {},
   "source": [
    "# Statistics"
   ]
  },
  {
   "cell_type": "markdown",
   "id": "77505265",
   "metadata": {},
   "source": [
    "## Describing Data"
   ]
  },
  {
   "cell_type": "code",
   "execution_count": 3,
   "id": "933a1458",
   "metadata": {},
   "outputs": [
    {
     "data": {
      "image/png": "[encoded data removed]",
      "text/plain": [
       "<Figure size 432x288 with 1 Axes>"
      ]
     },
     "metadata": {
      "needs_background": "light"
     },
     "output_type": "display_data"
    }
   ],
   "source": [
    "# How to describe data\n",
    "\n",
    "num_friends = [100, 49, 41, 40, 25]\n",
    "\n",
    "# In the first approach, we put the friends count in a histogram using Counter and plt.bar()\n",
    "\n",
    "from matplotlib import pyplot as plt\n",
    "from collections import Counter\n",
    "\n",
    "friend_counts = Counter(num_friends)\n",
    "xs = range(101)                              # biggest value is 100\n",
    "ys = [friend_counts[x] for x in xs]          # height is only # (number) of friends\n",
    "plt.bar(xs, ys)\n",
    "plt.axis([0, 101, 0, 25])\n",
    "plt.title(\"Friends count histogram\")\n",
    "plt.xlabel(\"# of friends\")\n",
    "plt.ylabel(\"# of people\")\n",
    "plt.show()"
   ]
  },
  {
   "cell_type": "code",
   "execution_count": 4,
   "id": "584f8c9a",
   "metadata": {},
   "outputs": [],
   "source": [
    "# Unfortunately, it is hard to include this graph in discussions. So we better get to generate some statistics. \n",
    "# The simplest statistic is the number of points in data:\n",
    "num_points = len(num_friends)    # 5\n",
    "\n",
    "# Maximum and minimum values\n",
    "largest_value = max(num_friends)      # 100\n",
    "smallest_value = min(num_friends)     # 25\n"
   ]
  },
  {
   "cell_type": "markdown",
   "id": "36b70e04",
   "metadata": {},
   "source": [
    "## Tendências Centrais"
   ]
  },
  {
   "cell_type": "code",
   "execution_count": 6,
   "id": "5a08f0be",
   "metadata": {},
   "outputs": [
    {
     "name": "stdout",
     "output_type": "stream",
     "text": [
      "51.0\n"
     ]
    }
   ],
   "source": [
    "# Usually we want to have a notion of where our data is centered. The mean will be more used because it is the \n",
    "# sum of the data divided by its count:\n",
    "\n",
    "def mean(x):\n",
    "    return sum(x)/len(x)\n",
    "\n",
    "print(mean(num_friends))"
   ]
  },
  {
   "cell_type": "code",
   "execution_count": 7,
   "id": "2249505d",
   "metadata": {},
   "outputs": [
    {
     "name": "stdout",
     "output_type": "stream",
     "text": [
      "41\n"
     ]
    }
   ],
   "source": [
    "# Sometimes we may get interested by the median, which is the biggest value of the middle (if the number of \n",
    "# points is odd) or the mean of the two values in the middle (if the number of points is even).\n",
    "\n",
    "# Different from the mean, the mean doesn't depends on eachvalue of its data. E.g. if you increase the biggest \n",
    "# point (or decrease the smaller point) the points in the middle remain intact, hence the median is mantained.\n",
    "\n",
    "# The median function is a little more complicated, mainly because the \"even\" part:\n",
    "\n",
    "def median(v):\n",
    "    \"\"\"finds the middle value of v\"\"\"\n",
    "    n = len(v)\n",
    "    sorted_v = sorted(v)\n",
    "    midpoint = n//2\n",
    "    \n",
    "    if n % 2 == 1:\n",
    "        # if is odd, returns the value in the middle\n",
    "        return sorted_v[midpoint]\n",
    "    else:\n",
    "        # if is even, return the mean of the middle values\n",
    "        lo = midpoint-1\n",
    "        hi = midpoint\n",
    "        return (sorted_v[lo] + sorted_v[hi]) / 2\n",
    "    \n",
    "print(median(num_friends))"
   ]
  },
  {
   "cell_type": "code",
   "execution_count": null,
   "id": "1ff0137c",
   "metadata": {},
   "outputs": [],
   "source": []
  }
 ],
 "metadata": {
  "kernelspec": {
   "display_name": "Python 3 (ipykernel)",
   "language": "python",
   "name": "python3"
  },
  "language_info": {
   "codemirror_mode": {
    "name": "ipython",
    "version": 3
   },
   "file_extension": ".py",
   "mimetype": "text/x-python",
   "name": "python",
   "nbconvert_exporter": "python",
   "pygments_lexer": "ipython3",
   "version": "3.8.10"
  }
 },
 "nbformat": 4,
 "nbformat_minor": 5
}
